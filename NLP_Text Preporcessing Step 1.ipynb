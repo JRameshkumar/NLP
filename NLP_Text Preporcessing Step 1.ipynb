{
  "nbformat": 4,
  "nbformat_minor": 0,
  "metadata": {
    "colab": {
      "name": "NLP Day2.ipynb",
      "provenance": [],
      "collapsed_sections": [],
      "authorship_tag": "ABX9TyMHUAKpR6dZXa5BOIzYKDSM",
      "include_colab_link": true
    },
    "kernelspec": {
      "name": "python3",
      "display_name": "Python 3"
    },
    "language_info": {
      "name": "python"
    }
  },
  "cells": [
    {
      "cell_type": "markdown",
      "metadata": {
        "id": "view-in-github",
        "colab_type": "text"
      },
      "source": [
        "<a href=\"https://colab.research.google.com/github/JRameshkumar/NLP/blob/main/NLP_Text%20Preporcessing%20Step%201.ipynb\" target=\"_parent\"><img src=\"https://colab.research.google.com/assets/colab-badge.svg\" alt=\"Open In Colab\"/></a>"
      ]
    },
    {
      "cell_type": "code",
      "execution_count": null,
      "metadata": {
        "colab": {
          "base_uri": "https://localhost:8080/"
        },
        "id": "7c1z-9TUdwo2",
        "outputId": "fceb2982-3220-47b4-8463-db56d90a0155"
      },
      "outputs": [
        {
          "output_type": "stream",
          "name": "stdout",
          "text": [
            "Looking in indexes: https://pypi.org/simple, https://us-python.pkg.dev/colab-wheels/public/simple/\n",
            "Requirement already satisfied: NLTK in /usr/local/lib/python3.7/dist-packages (3.7)\n",
            "Requirement already satisfied: joblib in /usr/local/lib/python3.7/dist-packages (from NLTK) (1.1.0)\n",
            "Requirement already satisfied: click in /usr/local/lib/python3.7/dist-packages (from NLTK) (7.1.2)\n",
            "Requirement already satisfied: regex>=2021.8.3 in /usr/local/lib/python3.7/dist-packages (from NLTK) (2022.6.2)\n",
            "Requirement already satisfied: tqdm in /usr/local/lib/python3.7/dist-packages (from NLTK) (4.64.0)\n"
          ]
        }
      ],
      "source": [
        "#Install NLTK library fopr Text Pre-processing\n",
        "!pip install NLTK"
      ]
    },
    {
      "cell_type": "code",
      "source": [
        "paragraph = \"\"\"\n",
        "India, officially the Republic of India (Hindi: Bhārat Gaṇarājya),[26] is a country in South Asia. It is the seventh-largest country by area, the second-most populous country, and the most populous democracy in the world. Bounded by the Indian Ocean on the south, the Arabian Sea on the southwest, and the Bay of Bengal on the southeast, it shares land borders with Pakistan to the west;[f] China, Nepal, and Bhutan to the north; and Bangladesh and Myanmar to the east. In the Indian Ocean, India is in the vicinity of Sri Lanka and the Maldives; its Andaman and Nicobar Islands share a maritime border with Thailand, Myanmar and Indonesia.\n",
        "\n",
        "Modern humans arrived on the Indian subcontinent from Africa no later than 55,000 years ago.[27][28][29] Their long occupation, initially in varying forms of isolation as hunter-gatherers, has made the region highly diverse, second only to Africa in human genetic diversity.[30] Settled life emerged on the subcontinent in the western margins of the Indus river basin 9,000 years ago, evolving gradually into the Indus Valley civilisation of the third millennium BCE.[31] By 1200 BCE, an archaic form of Sanskrit, an Indo-European language, had diffused into India from the northwest,[32][33] unfolding as the language of the Rigveda, and recording the dawning of Hinduism in India.[34] The Dravidian languages of India were supplanted in the northern and western regions.[35] By 400 BCE, stratification and exclusion by caste had emerged within Hinduism,[36] and Buddhism and Jainism had arisen, proclaiming social orders unlinked to heredity.[37] Early political consolidations gave rise to the loose-knit Maurya and Gupta Empires based in the Ganges Basin.[38] Their collective era was suffused with wide-ranging creativity,[39] but also marked by the declining status of women,[40] and the incorporation of untouchability into an organised system of belief.[g][41] In South India, the Middle kingdoms exported Dravidian-languages scripts and religious cultures to the kingdoms of Southeast Asia.[42]\n",
        "\n",
        "In the early medieval era, Christianity, Islam, Judaism, and Zoroastrianism became established on India's southern and western coasts.[43] Muslim armies from Central Asia intermittently overran India's northern plains,[44] eventually founding the Delhi Sultanate, and drawing northern India into the cosmopolitan networks of medieval Islam.[45] In the 15th century, the Vijayanagara Empire created a long-lasting composite Hindu culture in south India.[46] In the Punjab, Sikhism emerged, rejecting institutionalised religion.[47] The Mughal Empire, in 1526, ushered in two centuries of relative peace,[48] leaving a legacy of luminous architecture.[h][49] Gradually expanding rule of the British East India Company followed, turning India into a colonial economy, but also consolidating its sovereignty.[50] British Crown rule began in 1858. The rights promised to Indians were granted slowly,[51][52] but technological changes were introduced, and ideas of education, modernity and the public life took root.[53] A pioneering and influential nationalist movement emerged, which was noted for nonviolent resistance and became the major factor in ending British rule.[54][55] In 1947 the British Indian Empire was partitioned into two independent dominions,[56][57][58][59] a Hindu-majority Dominion of India and a Muslim-majority Dominion of Pakistan, amid large-scale loss of life and an unprecedented migration.[60]\n",
        "\n",
        "\"\"\""
      ],
      "metadata": {
        "id": "Rgymqu-JfChw"
      },
      "execution_count": null,
      "outputs": []
    },
    {
      "cell_type": "code",
      "source": [
        "paragraph"
      ],
      "metadata": {
        "colab": {
          "base_uri": "https://localhost:8080/",
          "height": 521
        },
        "id": "OACWFGVjf4gS",
        "outputId": "71eb7d22-9d2c-4f70-b112-1a59699d931d"
      },
      "execution_count": null,
      "outputs": [
        {
          "output_type": "execute_result",
          "data": {
            "text/plain": [
              "\"\\nIndia, officially the Republic of India (Hindi: Bhārat Gaṇarājya),[26] is a country in South Asia. It is the seventh-largest country by area, the second-most populous country, and the most populous democracy in the world. Bounded by the Indian Ocean on the south, the Arabian Sea on the southwest, and the Bay of Bengal on the southeast, it shares land borders with Pakistan to the west;[f] China, Nepal, and Bhutan to the north; and Bangladesh and Myanmar to the east. In the Indian Ocean, India is in the vicinity of Sri Lanka and the Maldives; its Andaman and Nicobar Islands share a maritime border with Thailand, Myanmar and Indonesia.\\n\\nModern humans arrived on the Indian subcontinent from Africa no later than 55,000 years ago.[27][28][29] Their long occupation, initially in varying forms of isolation as hunter-gatherers, has made the region highly diverse, second only to Africa in human genetic diversity.[30] Settled life emerged on the subcontinent in the western margins of the Indus river basin 9,000 years ago, evolving gradually into the Indus Valley civilisation of the third millennium BCE.[31] By 1200 BCE, an archaic form of Sanskrit, an Indo-European language, had diffused into India from the northwest,[32][33] unfolding as the language of the Rigveda, and recording the dawning of Hinduism in India.[34] The Dravidian languages of India were supplanted in the northern and western regions.[35] By 400 BCE, stratification and exclusion by caste had emerged within Hinduism,[36] and Buddhism and Jainism had arisen, proclaiming social orders unlinked to heredity.[37] Early political consolidations gave rise to the loose-knit Maurya and Gupta Empires based in the Ganges Basin.[38] Their collective era was suffused with wide-ranging creativity,[39] but also marked by the declining status of women,[40] and the incorporation of untouchability into an organised system of belief.[g][41] In South India, the Middle kingdoms exported Dravidian-languages scripts and religious cultures to the kingdoms of Southeast Asia.[42]\\n\\nIn the early medieval era, Christianity, Islam, Judaism, and Zoroastrianism became established on India's southern and western coasts.[43] Muslim armies from Central Asia intermittently overran India's northern plains,[44] eventually founding the Delhi Sultanate, and drawing northern India into the cosmopolitan networks of medieval Islam.[45] In the 15th century, the Vijayanagara Empire created a long-lasting composite Hindu culture in south India.[46] In the Punjab, Sikhism emerged, rejecting institutionalised religion.[47] The Mughal Empire, in 1526, ushered in two centuries of relative peace,[48] leaving a legacy of luminous architecture.[h][49] Gradually expanding rule of the British East India Company followed, turning India into a colonial economy, but also consolidating its sovereignty.[50] British Crown rule began in 1858. The rights promised to Indians were granted slowly,[51][52] but technological changes were introduced, and ideas of education, modernity and the public life took root.[53] A pioneering and influential nationalist movement emerged, which was noted for nonviolent resistance and became the major factor in ending British rule.[54][55] In 1947 the British Indian Empire was partitioned into two independent dominions,[56][57][58][59] a Hindu-majority Dominion of India and a Muslim-majority Dominion of Pakistan, amid large-scale loss of life and an unprecedented migration.[60]\\n\\n\""
            ],
            "application/vnd.google.colaboratory.intrinsic+json": {
              "type": "string"
            }
          },
          "metadata": {},
          "execution_count": 4
        }
      ]
    },
    {
      "cell_type": "code",
      "source": [
        "import nltk\n",
        "from nltk.stem import PorterStemmer\n",
        "from nltk.corpus import stopwords"
      ],
      "metadata": {
        "id": "TqzNB2e2f4cq"
      },
      "execution_count": null,
      "outputs": []
    },
    {
      "cell_type": "code",
      "source": [
        "#Step 1 ----Tokenization -----Converts Paragraphs-->Sentences-->Words\n",
        "nltk.download('punkt')  #Punkt - This tokenizer divides a text into a list of sentences by using an unsupervised algorithm to build a model for abbreviation words, collocations, and words that start sentences\n",
        "sentences = nltk.sent_tokenize(paragraph)"
      ],
      "metadata": {
        "colab": {
          "base_uri": "https://localhost:8080/"
        },
        "id": "YWCnzW68f4Zu",
        "outputId": "6bf4a69a-e4c6-4010-91ed-27d3c3a2ff9d"
      },
      "execution_count": null,
      "outputs": [
        {
          "output_type": "stream",
          "name": "stderr",
          "text": [
            "[nltk_data] Downloading package punkt to /root/nltk_data...\n",
            "[nltk_data]   Unzipping tokenizers/punkt.zip.\n"
          ]
        }
      ]
    },
    {
      "cell_type": "code",
      "source": [
        "print(sentences)"
      ],
      "metadata": {
        "colab": {
          "base_uri": "https://localhost:8080/"
        },
        "id": "3adYsPW9f4W5",
        "outputId": "8f664acc-935e-4ea6-8e28-0fc47f87629b"
      },
      "execution_count": null,
      "outputs": [
        {
          "output_type": "stream",
          "name": "stdout",
          "text": [
            "['\\nIndia, officially the Republic of India (Hindi: Bhārat Gaṇarājya),[26] is a country in South Asia.', 'It is the seventh-largest country by area, the second-most populous country, and the most populous democracy in the world.', 'Bounded by the Indian Ocean on the south, the Arabian Sea on the southwest, and the Bay of Bengal on the southeast, it shares land borders with Pakistan to the west;[f] China, Nepal, and Bhutan to the north; and Bangladesh and Myanmar to the east.', 'In the Indian Ocean, India is in the vicinity of Sri Lanka and the Maldives; its Andaman and Nicobar Islands share a maritime border with Thailand, Myanmar and Indonesia.', 'Modern humans arrived on the Indian subcontinent from Africa no later than 55,000 years ago.', '[27][28][29] Their long occupation, initially in varying forms of isolation as hunter-gatherers, has made the region highly diverse, second only to Africa in human genetic diversity.', '[30] Settled life emerged on the subcontinent in the western margins of the Indus river basin 9,000 years ago, evolving gradually into the Indus Valley civilisation of the third millennium BCE.', '[31] By 1200 BCE, an archaic form of Sanskrit, an Indo-European language, had diffused into India from the northwest,[32][33] unfolding as the language of the Rigveda, and recording the dawning of Hinduism in India.', '[34] The Dravidian languages of India were supplanted in the northern and western regions.', '[35] By 400 BCE, stratification and exclusion by caste had emerged within Hinduism,[36] and Buddhism and Jainism had arisen, proclaiming social orders unlinked to heredity.', '[37] Early political consolidations gave rise to the loose-knit Maurya and Gupta Empires based in the Ganges Basin.', '[38] Their collective era was suffused with wide-ranging creativity,[39] but also marked by the declining status of women,[40] and the incorporation of untouchability into an organised system of belief.', '[g][41] In South India, the Middle kingdoms exported Dravidian-languages scripts and religious cultures to the kingdoms of Southeast Asia.', \"[42]\\n\\nIn the early medieval era, Christianity, Islam, Judaism, and Zoroastrianism became established on India's southern and western coasts.\", \"[43] Muslim armies from Central Asia intermittently overran India's northern plains,[44] eventually founding the Delhi Sultanate, and drawing northern India into the cosmopolitan networks of medieval Islam.\", '[45] In the 15th century, the Vijayanagara Empire created a long-lasting composite Hindu culture in south India.', '[46] In the Punjab, Sikhism emerged, rejecting institutionalised religion.', '[47] The Mughal Empire, in 1526, ushered in two centuries of relative peace,[48] leaving a legacy of luminous architecture.', '[h][49] Gradually expanding rule of the British East India Company followed, turning India into a colonial economy, but also consolidating its sovereignty.', '[50] British Crown rule began in 1858.', 'The rights promised to Indians were granted slowly,[51][52] but technological changes were introduced, and ideas of education, modernity and the public life took root.', '[53] A pioneering and influential nationalist movement emerged, which was noted for nonviolent resistance and became the major factor in ending British rule.', '[54][55] In 1947 the British Indian Empire was partitioned into two independent dominions,[56][57][58][59] a Hindu-majority Dominion of India and a Muslim-majority Dominion of Pakistan, amid large-scale loss of life and an unprecedented migration.', '[60]']\n"
          ]
        }
      ]
    },
    {
      "cell_type": "code",
      "source": [
        "len(sentences)"
      ],
      "metadata": {
        "colab": {
          "base_uri": "https://localhost:8080/"
        },
        "id": "-HEn5LPsf4UM",
        "outputId": "a89041fa-45c4-4786-e037-37b01cdfb53a"
      },
      "execution_count": null,
      "outputs": [
        {
          "output_type": "execute_result",
          "data": {
            "text/plain": [
              "24"
            ]
          },
          "metadata": {},
          "execution_count": 8
        }
      ]
    },
    {
      "cell_type": "code",
      "source": [
        "stemmer = PorterStemmer()\n",
        "stemmer.stem('india')"
      ],
      "metadata": {
        "colab": {
          "base_uri": "https://localhost:8080/",
          "height": 35
        },
        "id": "oX5U0tHhhp4w",
        "outputId": "bc1e11d5-dbc7-4204-886e-a2ae8cee32d8"
      },
      "execution_count": null,
      "outputs": [
        {
          "output_type": "execute_result",
          "data": {
            "text/plain": [
              "'india'"
            ],
            "application/vnd.google.colaboratory.intrinsic+json": {
              "type": "string"
            }
          },
          "metadata": {},
          "execution_count": 9
        }
      ]
    },
    {
      "cell_type": "code",
      "source": [
        "stemmer.stem('offficially')"
      ],
      "metadata": {
        "colab": {
          "base_uri": "https://localhost:8080/",
          "height": 35
        },
        "id": "xzKmP4bDhp1e",
        "outputId": "4fdfbeb2-8748-468e-e12f-72ea27e6934a"
      },
      "execution_count": null,
      "outputs": [
        {
          "output_type": "execute_result",
          "data": {
            "text/plain": [
              "'offfici'"
            ],
            "application/vnd.google.colaboratory.intrinsic+json": {
              "type": "string"
            }
          },
          "metadata": {},
          "execution_count": 10
        }
      ]
    },
    {
      "cell_type": "code",
      "source": [
        "from nltk.stem import WordNetLemmatizer"
      ],
      "metadata": {
        "id": "9eib3NJRhpye"
      },
      "execution_count": null,
      "outputs": []
    },
    {
      "cell_type": "code",
      "source": [
        "nltk.download('wordnet')"
      ],
      "metadata": {
        "colab": {
          "base_uri": "https://localhost:8080/"
        },
        "id": "j1zsa2I8ihCV",
        "outputId": "d546651b-0765-44e0-f626-b9cd5e28a8e8"
      },
      "execution_count": null,
      "outputs": [
        {
          "output_type": "stream",
          "name": "stderr",
          "text": [
            "[nltk_data] Downloading package wordnet to /root/nltk_data...\n",
            "[nltk_data]   Unzipping corpora/wordnet.zip.\n"
          ]
        },
        {
          "output_type": "execute_result",
          "data": {
            "text/plain": [
              "True"
            ]
          },
          "metadata": {},
          "execution_count": 14
        }
      ]
    },
    {
      "cell_type": "code",
      "source": [
        "nltk.download('omw-1.4')"
      ],
      "metadata": {
        "colab": {
          "base_uri": "https://localhost:8080/"
        },
        "id": "4n3CQ7ici7wP",
        "outputId": "f45c360f-ee0a-429b-b662-e55aefd036bb"
      },
      "execution_count": null,
      "outputs": [
        {
          "output_type": "stream",
          "name": "stderr",
          "text": [
            "[nltk_data] Downloading package omw-1.4 to /root/nltk_data...\n",
            "[nltk_data]   Unzipping corpora/omw-1.4.zip.\n"
          ]
        },
        {
          "output_type": "execute_result",
          "data": {
            "text/plain": [
              "True"
            ]
          },
          "metadata": {},
          "execution_count": 18
        }
      ]
    },
    {
      "cell_type": "code",
      "source": [
        "lemmatizer = WordNetLemmatizer()"
      ],
      "metadata": {
        "id": "ok2ft0kmhpvp"
      },
      "execution_count": null,
      "outputs": []
    },
    {
      "cell_type": "code",
      "source": [
        "lemmatizer.lemmatize('officially')"
      ],
      "metadata": {
        "colab": {
          "base_uri": "https://localhost:8080/",
          "height": 35
        },
        "id": "X4JPnZdGhpsl",
        "outputId": "54865615-b80b-4d9e-b23e-64be793908f6"
      },
      "execution_count": null,
      "outputs": [
        {
          "output_type": "execute_result",
          "data": {
            "text/plain": [
              "'officially'"
            ],
            "application/vnd.google.colaboratory.intrinsic+json": {
              "type": "string"
            }
          },
          "metadata": {},
          "execution_count": 20
        }
      ]
    },
    {
      "cell_type": "code",
      "source": [
        "#re - A regular expression (RE) is a language for specifying text search strings. It helps us to match or extract other strings or sets of strings, with the help of a specialized syntax present in a pattern.\n",
        "import re"
      ],
      "metadata": {
        "id": "cOlFIV55hppt"
      },
      "execution_count": null,
      "outputs": []
    },
    {
      "cell_type": "code",
      "source": [
        "corpus =[]\n",
        "for i in range(len(sentences)):\n",
        "  review = re.sub('[^a-zA-Z]',' ',sentences[i])\n",
        "  review = review.lower()\n",
        "  corpus.append(review)"
      ],
      "metadata": {
        "id": "HoS_4K2TjkZC"
      },
      "execution_count": null,
      "outputs": []
    },
    {
      "cell_type": "code",
      "source": [
        "corpus"
      ],
      "metadata": {
        "colab": {
          "base_uri": "https://localhost:8080/"
        },
        "id": "ivBD3TprkFCV",
        "outputId": "bde44aea-4732-4670-9a94-6c4df4a265b6"
      },
      "execution_count": null,
      "outputs": [
        {
          "output_type": "execute_result",
          "data": {
            "text/plain": [
              "[' india  officially the republic of india  hindi  bh rat ga ar jya       is a country in south asia ',\n",
              " 'it is the seventh largest country by area  the second most populous country  and the most populous democracy in the world ',\n",
              " 'bounded by the indian ocean on the south  the arabian sea on the southwest  and the bay of bengal on the southeast  it shares land borders with pakistan to the west  f  china  nepal  and bhutan to the north  and bangladesh and myanmar to the east ',\n",
              " 'in the indian ocean  india is in the vicinity of sri lanka and the maldives  its andaman and nicobar islands share a maritime border with thailand  myanmar and indonesia ',\n",
              " 'modern humans arrived on the indian subcontinent from africa no later than        years ago ',\n",
              " '             their long occupation  initially in varying forms of isolation as hunter gatherers  has made the region highly diverse  second only to africa in human genetic diversity ',\n",
              " '     settled life emerged on the subcontinent in the western margins of the indus river basin       years ago  evolving gradually into the indus valley civilisation of the third millennium bce ',\n",
              " '     by      bce  an archaic form of sanskrit  an indo european language  had diffused into india from the northwest          unfolding as the language of the rigveda  and recording the dawning of hinduism in india ',\n",
              " '     the dravidian languages of india were supplanted in the northern and western regions ',\n",
              " '     by     bce  stratification and exclusion by caste had emerged within hinduism      and buddhism and jainism had arisen  proclaiming social orders unlinked to heredity ',\n",
              " '     early political consolidations gave rise to the loose knit maurya and gupta empires based in the ganges basin ',\n",
              " '     their collective era was suffused with wide ranging creativity      but also marked by the declining status of women      and the incorporation of untouchability into an organised system of belief ',\n",
              " ' g      in south india  the middle kingdoms exported dravidian languages scripts and religious cultures to the kingdoms of southeast asia ',\n",
              " '      in the early medieval era  christianity  islam  judaism  and zoroastrianism became established on india s southern and western coasts ',\n",
              " '     muslim armies from central asia intermittently overran india s northern plains      eventually founding the delhi sultanate  and drawing northern india into the cosmopolitan networks of medieval islam ',\n",
              " '     in the   th century  the vijayanagara empire created a long lasting composite hindu culture in south india ',\n",
              " '     in the punjab  sikhism emerged  rejecting institutionalised religion ',\n",
              " '     the mughal empire  in       ushered in two centuries of relative peace      leaving a legacy of luminous architecture ',\n",
              " ' h      gradually expanding rule of the british east india company followed  turning india into a colonial economy  but also consolidating its sovereignty ',\n",
              " '     british crown rule began in      ',\n",
              " 'the rights promised to indians were granted slowly          but technological changes were introduced  and ideas of education  modernity and the public life took root ',\n",
              " '     a pioneering and influential nationalist movement emerged  which was noted for nonviolent resistance and became the major factor in ending british rule ',\n",
              " '         in      the british indian empire was partitioned into two independent dominions                  a hindu majority dominion of india and a muslim majority dominion of pakistan  amid large scale loss of life and an unprecedented migration ',\n",
              " '    ']"
            ]
          },
          "metadata": {},
          "execution_count": 23
        }
      ]
    },
    {
      "cell_type": "code",
      "source": [
        "nltk.download('stopwords')"
      ],
      "metadata": {
        "colab": {
          "base_uri": "https://localhost:8080/"
        },
        "id": "IzkBtzNwkk2s",
        "outputId": "abfec78b-a369-4c1e-8e2c-511c2b501a61"
      },
      "execution_count": null,
      "outputs": [
        {
          "output_type": "stream",
          "name": "stderr",
          "text": [
            "[nltk_data] Downloading package stopwords to /root/nltk_data...\n",
            "[nltk_data]   Unzipping corpora/stopwords.zip.\n"
          ]
        },
        {
          "output_type": "execute_result",
          "data": {
            "text/plain": [
              "True"
            ]
          },
          "metadata": {},
          "execution_count": 25
        }
      ]
    },
    {
      "cell_type": "code",
      "source": [
        "stopwords.words('english')"
      ],
      "metadata": {
        "colab": {
          "base_uri": "https://localhost:8080/"
        },
        "id": "-WhQ3ejekGqU",
        "outputId": "7fd5347b-8c3a-4087-b8e2-adda5b1c3d68"
      },
      "execution_count": null,
      "outputs": [
        {
          "output_type": "execute_result",
          "data": {
            "text/plain": [
              "['i',\n",
              " 'me',\n",
              " 'my',\n",
              " 'myself',\n",
              " 'we',\n",
              " 'our',\n",
              " 'ours',\n",
              " 'ourselves',\n",
              " 'you',\n",
              " \"you're\",\n",
              " \"you've\",\n",
              " \"you'll\",\n",
              " \"you'd\",\n",
              " 'your',\n",
              " 'yours',\n",
              " 'yourself',\n",
              " 'yourselves',\n",
              " 'he',\n",
              " 'him',\n",
              " 'his',\n",
              " 'himself',\n",
              " 'she',\n",
              " \"she's\",\n",
              " 'her',\n",
              " 'hers',\n",
              " 'herself',\n",
              " 'it',\n",
              " \"it's\",\n",
              " 'its',\n",
              " 'itself',\n",
              " 'they',\n",
              " 'them',\n",
              " 'their',\n",
              " 'theirs',\n",
              " 'themselves',\n",
              " 'what',\n",
              " 'which',\n",
              " 'who',\n",
              " 'whom',\n",
              " 'this',\n",
              " 'that',\n",
              " \"that'll\",\n",
              " 'these',\n",
              " 'those',\n",
              " 'am',\n",
              " 'is',\n",
              " 'are',\n",
              " 'was',\n",
              " 'were',\n",
              " 'be',\n",
              " 'been',\n",
              " 'being',\n",
              " 'have',\n",
              " 'has',\n",
              " 'had',\n",
              " 'having',\n",
              " 'do',\n",
              " 'does',\n",
              " 'did',\n",
              " 'doing',\n",
              " 'a',\n",
              " 'an',\n",
              " 'the',\n",
              " 'and',\n",
              " 'but',\n",
              " 'if',\n",
              " 'or',\n",
              " 'because',\n",
              " 'as',\n",
              " 'until',\n",
              " 'while',\n",
              " 'of',\n",
              " 'at',\n",
              " 'by',\n",
              " 'for',\n",
              " 'with',\n",
              " 'about',\n",
              " 'against',\n",
              " 'between',\n",
              " 'into',\n",
              " 'through',\n",
              " 'during',\n",
              " 'before',\n",
              " 'after',\n",
              " 'above',\n",
              " 'below',\n",
              " 'to',\n",
              " 'from',\n",
              " 'up',\n",
              " 'down',\n",
              " 'in',\n",
              " 'out',\n",
              " 'on',\n",
              " 'off',\n",
              " 'over',\n",
              " 'under',\n",
              " 'again',\n",
              " 'further',\n",
              " 'then',\n",
              " 'once',\n",
              " 'here',\n",
              " 'there',\n",
              " 'when',\n",
              " 'where',\n",
              " 'why',\n",
              " 'how',\n",
              " 'all',\n",
              " 'any',\n",
              " 'both',\n",
              " 'each',\n",
              " 'few',\n",
              " 'more',\n",
              " 'most',\n",
              " 'other',\n",
              " 'some',\n",
              " 'such',\n",
              " 'no',\n",
              " 'nor',\n",
              " 'not',\n",
              " 'only',\n",
              " 'own',\n",
              " 'same',\n",
              " 'so',\n",
              " 'than',\n",
              " 'too',\n",
              " 'very',\n",
              " 's',\n",
              " 't',\n",
              " 'can',\n",
              " 'will',\n",
              " 'just',\n",
              " 'don',\n",
              " \"don't\",\n",
              " 'should',\n",
              " \"should've\",\n",
              " 'now',\n",
              " 'd',\n",
              " 'll',\n",
              " 'm',\n",
              " 'o',\n",
              " 're',\n",
              " 've',\n",
              " 'y',\n",
              " 'ain',\n",
              " 'aren',\n",
              " \"aren't\",\n",
              " 'couldn',\n",
              " \"couldn't\",\n",
              " 'didn',\n",
              " \"didn't\",\n",
              " 'doesn',\n",
              " \"doesn't\",\n",
              " 'hadn',\n",
              " \"hadn't\",\n",
              " 'hasn',\n",
              " \"hasn't\",\n",
              " 'haven',\n",
              " \"haven't\",\n",
              " 'isn',\n",
              " \"isn't\",\n",
              " 'ma',\n",
              " 'mightn',\n",
              " \"mightn't\",\n",
              " 'mustn',\n",
              " \"mustn't\",\n",
              " 'needn',\n",
              " \"needn't\",\n",
              " 'shan',\n",
              " \"shan't\",\n",
              " 'shouldn',\n",
              " \"shouldn't\",\n",
              " 'wasn',\n",
              " \"wasn't\",\n",
              " 'weren',\n",
              " \"weren't\",\n",
              " 'won',\n",
              " \"won't\",\n",
              " 'wouldn',\n",
              " \"wouldn't\"]"
            ]
          },
          "metadata": {},
          "execution_count": 26
        }
      ]
    },
    {
      "cell_type": "code",
      "source": [
        "#Stemming:Stemming is the process of reducing a word to its word stem that affixes to suffixes and prefixes or to the roots of words known as a lemma. Stemming is important in natural language understanding (NLU) and natural language processing (NLP).\n",
        "for i in corpus:\n",
        "  words = nltk.word_tokenize(i)\n",
        "  for word in words:\n",
        "    if word not in set(stopwords.words('english')):\n",
        "      print(stemmer.stem(word))"
      ],
      "metadata": {
        "colab": {
          "base_uri": "https://localhost:8080/"
        },
        "id": "Fl4MSzqckgzd",
        "outputId": "177beb8f-6f1f-4e1e-ce56-ad3fa470dd61"
      },
      "execution_count": null,
      "outputs": [
        {
          "output_type": "stream",
          "name": "stdout",
          "text": [
            "india\n",
            "offici\n",
            "republ\n",
            "india\n",
            "hindi\n",
            "bh\n",
            "rat\n",
            "ga\n",
            "ar\n",
            "jya\n",
            "countri\n",
            "south\n",
            "asia\n",
            "seventh\n",
            "largest\n",
            "countri\n",
            "area\n",
            "second\n",
            "popul\n",
            "countri\n",
            "popul\n",
            "democraci\n",
            "world\n",
            "bound\n",
            "indian\n",
            "ocean\n",
            "south\n",
            "arabian\n",
            "sea\n",
            "southwest\n",
            "bay\n",
            "bengal\n",
            "southeast\n",
            "share\n",
            "land\n",
            "border\n",
            "pakistan\n",
            "west\n",
            "f\n",
            "china\n",
            "nepal\n",
            "bhutan\n",
            "north\n",
            "bangladesh\n",
            "myanmar\n",
            "east\n",
            "indian\n",
            "ocean\n",
            "india\n",
            "vicin\n",
            "sri\n",
            "lanka\n",
            "maldiv\n",
            "andaman\n",
            "nicobar\n",
            "island\n",
            "share\n",
            "maritim\n",
            "border\n",
            "thailand\n",
            "myanmar\n",
            "indonesia\n",
            "modern\n",
            "human\n",
            "arriv\n",
            "indian\n",
            "subcontin\n",
            "africa\n",
            "later\n",
            "year\n",
            "ago\n",
            "long\n",
            "occup\n",
            "initi\n",
            "vari\n",
            "form\n",
            "isol\n",
            "hunter\n",
            "gather\n",
            "made\n",
            "region\n",
            "highli\n",
            "divers\n",
            "second\n",
            "africa\n",
            "human\n",
            "genet\n",
            "divers\n",
            "settl\n",
            "life\n",
            "emerg\n",
            "subcontin\n",
            "western\n",
            "margin\n",
            "indu\n",
            "river\n",
            "basin\n",
            "year\n",
            "ago\n",
            "evolv\n",
            "gradual\n",
            "indu\n",
            "valley\n",
            "civilis\n",
            "third\n",
            "millennium\n",
            "bce\n",
            "bce\n",
            "archaic\n",
            "form\n",
            "sanskrit\n",
            "indo\n",
            "european\n",
            "languag\n",
            "diffus\n",
            "india\n",
            "northwest\n",
            "unfold\n",
            "languag\n",
            "rigveda\n",
            "record\n",
            "dawn\n",
            "hinduism\n",
            "india\n",
            "dravidian\n",
            "languag\n",
            "india\n",
            "supplant\n",
            "northern\n",
            "western\n",
            "region\n",
            "bce\n",
            "stratif\n",
            "exclus\n",
            "cast\n",
            "emerg\n",
            "within\n",
            "hinduism\n",
            "buddhism\n",
            "jainism\n",
            "arisen\n",
            "proclaim\n",
            "social\n",
            "order\n",
            "unlink\n",
            "hered\n",
            "earli\n",
            "polit\n",
            "consolid\n",
            "gave\n",
            "rise\n",
            "loos\n",
            "knit\n",
            "maurya\n",
            "gupta\n",
            "empir\n",
            "base\n",
            "gang\n",
            "basin\n",
            "collect\n",
            "era\n",
            "suffus\n",
            "wide\n",
            "rang\n",
            "creativ\n",
            "also\n",
            "mark\n",
            "declin\n",
            "statu\n",
            "women\n",
            "incorpor\n",
            "untouch\n",
            "organis\n",
            "system\n",
            "belief\n",
            "g\n",
            "south\n",
            "india\n",
            "middl\n",
            "kingdom\n",
            "export\n",
            "dravidian\n",
            "languag\n",
            "script\n",
            "religi\n",
            "cultur\n",
            "kingdom\n",
            "southeast\n",
            "asia\n",
            "earli\n",
            "mediev\n",
            "era\n",
            "christian\n",
            "islam\n",
            "judaism\n",
            "zoroastrian\n",
            "becam\n",
            "establish\n",
            "india\n",
            "southern\n",
            "western\n",
            "coast\n",
            "muslim\n",
            "armi\n",
            "central\n",
            "asia\n",
            "intermitt\n",
            "overran\n",
            "india\n",
            "northern\n",
            "plain\n",
            "eventu\n",
            "found\n",
            "delhi\n",
            "sultan\n",
            "draw\n",
            "northern\n",
            "india\n",
            "cosmopolitan\n",
            "network\n",
            "mediev\n",
            "islam\n",
            "th\n",
            "centuri\n",
            "vijayanagara\n",
            "empir\n",
            "creat\n",
            "long\n",
            "last\n",
            "composit\n",
            "hindu\n",
            "cultur\n",
            "south\n",
            "india\n",
            "punjab\n",
            "sikhism\n",
            "emerg\n",
            "reject\n",
            "institutionalis\n",
            "religion\n",
            "mughal\n",
            "empir\n",
            "usher\n",
            "two\n",
            "centuri\n",
            "rel\n",
            "peac\n",
            "leav\n",
            "legaci\n",
            "lumin\n",
            "architectur\n",
            "h\n",
            "gradual\n",
            "expand\n",
            "rule\n",
            "british\n",
            "east\n",
            "india\n",
            "compani\n",
            "follow\n",
            "turn\n",
            "india\n",
            "coloni\n",
            "economi\n",
            "also\n",
            "consolid\n",
            "sovereignti\n",
            "british\n",
            "crown\n",
            "rule\n",
            "began\n",
            "right\n",
            "promis\n",
            "indian\n",
            "grant\n",
            "slowli\n",
            "technolog\n",
            "chang\n",
            "introduc\n",
            "idea\n",
            "educ\n",
            "modern\n",
            "public\n",
            "life\n",
            "took\n",
            "root\n",
            "pioneer\n",
            "influenti\n",
            "nationalist\n",
            "movement\n",
            "emerg\n",
            "note\n",
            "nonviol\n",
            "resist\n",
            "becam\n",
            "major\n",
            "factor\n",
            "end\n",
            "british\n",
            "rule\n",
            "british\n",
            "indian\n",
            "empir\n",
            "partit\n",
            "two\n",
            "independ\n",
            "dominion\n",
            "hindu\n",
            "major\n",
            "dominion\n",
            "india\n",
            "muslim\n",
            "major\n",
            "dominion\n",
            "pakistan\n",
            "amid\n",
            "larg\n",
            "scale\n",
            "loss\n",
            "life\n",
            "unpreced\n",
            "migrat\n"
          ]
        }
      ]
    },
    {
      "cell_type": "code",
      "source": [
        "## lemmatization:Lemmatization is the process of grouping together the different inflected forms of a word so they can be analyzed as a single item. Lemmatization is similar to stemming but it brings context to the words. So it links words with similar meanings to one word.\n",
        "for i in corpus:\n",
        "    words=nltk.word_tokenize(i)\n",
        "    for word in words:\n",
        "        if word not in set(stopwords.words('english')):\n",
        "            print(lemmatizer.lemmatize(word))"
      ],
      "metadata": {
        "colab": {
          "base_uri": "https://localhost:8080/"
        },
        "id": "cHZmpBmrlrj6",
        "outputId": "51efc05e-764f-4602-c3e6-96a5984e82b3"
      },
      "execution_count": null,
      "outputs": [
        {
          "output_type": "stream",
          "name": "stdout",
          "text": [
            "india\n",
            "officially\n",
            "republic\n",
            "india\n",
            "hindi\n",
            "bh\n",
            "rat\n",
            "ga\n",
            "ar\n",
            "jya\n",
            "country\n",
            "south\n",
            "asia\n",
            "seventh\n",
            "largest\n",
            "country\n",
            "area\n",
            "second\n",
            "populous\n",
            "country\n",
            "populous\n",
            "democracy\n",
            "world\n",
            "bounded\n",
            "indian\n",
            "ocean\n",
            "south\n",
            "arabian\n",
            "sea\n",
            "southwest\n",
            "bay\n",
            "bengal\n",
            "southeast\n",
            "share\n",
            "land\n",
            "border\n",
            "pakistan\n",
            "west\n",
            "f\n",
            "china\n",
            "nepal\n",
            "bhutan\n",
            "north\n",
            "bangladesh\n",
            "myanmar\n",
            "east\n",
            "indian\n",
            "ocean\n",
            "india\n",
            "vicinity\n",
            "sri\n",
            "lanka\n",
            "maldives\n",
            "andaman\n",
            "nicobar\n",
            "island\n",
            "share\n",
            "maritime\n",
            "border\n",
            "thailand\n",
            "myanmar\n",
            "indonesia\n",
            "modern\n",
            "human\n",
            "arrived\n",
            "indian\n",
            "subcontinent\n",
            "africa\n",
            "later\n",
            "year\n",
            "ago\n",
            "long\n",
            "occupation\n",
            "initially\n",
            "varying\n",
            "form\n",
            "isolation\n",
            "hunter\n",
            "gatherer\n",
            "made\n",
            "region\n",
            "highly\n",
            "diverse\n",
            "second\n",
            "africa\n",
            "human\n",
            "genetic\n",
            "diversity\n",
            "settled\n",
            "life\n",
            "emerged\n",
            "subcontinent\n",
            "western\n",
            "margin\n",
            "indus\n",
            "river\n",
            "basin\n",
            "year\n",
            "ago\n",
            "evolving\n",
            "gradually\n",
            "indus\n",
            "valley\n",
            "civilisation\n",
            "third\n",
            "millennium\n",
            "bce\n",
            "bce\n",
            "archaic\n",
            "form\n",
            "sanskrit\n",
            "indo\n",
            "european\n",
            "language\n",
            "diffused\n",
            "india\n",
            "northwest\n",
            "unfolding\n",
            "language\n",
            "rigveda\n",
            "recording\n",
            "dawning\n",
            "hinduism\n",
            "india\n",
            "dravidian\n",
            "language\n",
            "india\n",
            "supplanted\n",
            "northern\n",
            "western\n",
            "region\n",
            "bce\n",
            "stratification\n",
            "exclusion\n",
            "caste\n",
            "emerged\n",
            "within\n",
            "hinduism\n",
            "buddhism\n",
            "jainism\n",
            "arisen\n",
            "proclaiming\n",
            "social\n",
            "order\n",
            "unlinked\n",
            "heredity\n",
            "early\n",
            "political\n",
            "consolidation\n",
            "gave\n",
            "rise\n",
            "loose\n",
            "knit\n",
            "maurya\n",
            "gupta\n",
            "empire\n",
            "based\n",
            "ganges\n",
            "basin\n",
            "collective\n",
            "era\n",
            "suffused\n",
            "wide\n",
            "ranging\n",
            "creativity\n",
            "also\n",
            "marked\n",
            "declining\n",
            "status\n",
            "woman\n",
            "incorporation\n",
            "untouchability\n",
            "organised\n",
            "system\n",
            "belief\n",
            "g\n",
            "south\n",
            "india\n",
            "middle\n",
            "kingdom\n",
            "exported\n",
            "dravidian\n",
            "language\n",
            "script\n",
            "religious\n",
            "culture\n",
            "kingdom\n",
            "southeast\n",
            "asia\n",
            "early\n",
            "medieval\n",
            "era\n",
            "christianity\n",
            "islam\n",
            "judaism\n",
            "zoroastrianism\n",
            "became\n",
            "established\n",
            "india\n",
            "southern\n",
            "western\n",
            "coast\n",
            "muslim\n",
            "army\n",
            "central\n",
            "asia\n",
            "intermittently\n",
            "overran\n",
            "india\n",
            "northern\n",
            "plain\n",
            "eventually\n",
            "founding\n",
            "delhi\n",
            "sultanate\n",
            "drawing\n",
            "northern\n",
            "india\n",
            "cosmopolitan\n",
            "network\n",
            "medieval\n",
            "islam\n",
            "th\n",
            "century\n",
            "vijayanagara\n",
            "empire\n",
            "created\n",
            "long\n",
            "lasting\n",
            "composite\n",
            "hindu\n",
            "culture\n",
            "south\n",
            "india\n",
            "punjab\n",
            "sikhism\n",
            "emerged\n",
            "rejecting\n",
            "institutionalised\n",
            "religion\n",
            "mughal\n",
            "empire\n",
            "ushered\n",
            "two\n",
            "century\n",
            "relative\n",
            "peace\n",
            "leaving\n",
            "legacy\n",
            "luminous\n",
            "architecture\n",
            "h\n",
            "gradually\n",
            "expanding\n",
            "rule\n",
            "british\n",
            "east\n",
            "india\n",
            "company\n",
            "followed\n",
            "turning\n",
            "india\n",
            "colonial\n",
            "economy\n",
            "also\n",
            "consolidating\n",
            "sovereignty\n",
            "british\n",
            "crown\n",
            "rule\n",
            "began\n",
            "right\n",
            "promised\n",
            "indian\n",
            "granted\n",
            "slowly\n",
            "technological\n",
            "change\n",
            "introduced\n",
            "idea\n",
            "education\n",
            "modernity\n",
            "public\n",
            "life\n",
            "took\n",
            "root\n",
            "pioneering\n",
            "influential\n",
            "nationalist\n",
            "movement\n",
            "emerged\n",
            "noted\n",
            "nonviolent\n",
            "resistance\n",
            "became\n",
            "major\n",
            "factor\n",
            "ending\n",
            "british\n",
            "rule\n",
            "british\n",
            "indian\n",
            "empire\n",
            "partitioned\n",
            "two\n",
            "independent\n",
            "dominion\n",
            "hindu\n",
            "majority\n",
            "dominion\n",
            "india\n",
            "muslim\n",
            "majority\n",
            "dominion\n",
            "pakistan\n",
            "amid\n",
            "large\n",
            "scale\n",
            "loss\n",
            "life\n",
            "unprecedented\n",
            "migration\n"
          ]
        }
      ]
    },
    {
      "cell_type": "code",
      "source": [
        "## Apply Stopwords. Lemmatize\n",
        "import re\n",
        "corpus = []\n",
        "for i in range(len(sentences)):\n",
        "    review = re.sub('[^a-zA-Z]', ' ', sentences[i])\n",
        "    review = review.lower()\n",
        "    review = review.split()\n",
        "    review = [lemmatizer.lemmatize(word) for word in review if not word in set(stopwords.words('english'))]\n",
        "    review = ' '.join(review)\n",
        "    corpus.append(review)"
      ],
      "metadata": {
        "id": "dAe2E5f8pxcG"
      },
      "execution_count": null,
      "outputs": []
    },
    {
      "cell_type": "code",
      "source": [
        "from sklearn.feature_extraction.text import CountVectorizer\n",
        "cv=CountVectorizer(binary=True)"
      ],
      "metadata": {
        "id": "GxGl5Tj9qMoi"
      },
      "execution_count": null,
      "outputs": []
    },
    {
      "cell_type": "code",
      "source": [
        "X=cv.fit_transform(corpus)"
      ],
      "metadata": {
        "id": "hxpT9MWWqMlJ"
      },
      "execution_count": null,
      "outputs": []
    },
    {
      "cell_type": "code",
      "source": [
        "cv.vocabulary_"
      ],
      "metadata": {
        "colab": {
          "base_uri": "https://localhost:8080/"
        },
        "id": "DR_cX7OlqmZF",
        "outputId": "9b658073-0818-4d46-9c10-20299bf12837"
      },
      "execution_count": null,
      "outputs": [
        {
          "output_type": "execute_result",
          "data": {
            "text/plain": [
              "{'africa': 0,\n",
              " 'ago': 1,\n",
              " 'also': 2,\n",
              " 'amid': 3,\n",
              " 'andaman': 4,\n",
              " 'ar': 5,\n",
              " 'arabian': 6,\n",
              " 'archaic': 7,\n",
              " 'architecture': 8,\n",
              " 'area': 9,\n",
              " 'arisen': 10,\n",
              " 'army': 11,\n",
              " 'arrived': 12,\n",
              " 'asia': 13,\n",
              " 'bangladesh': 14,\n",
              " 'based': 15,\n",
              " 'basin': 16,\n",
              " 'bay': 17,\n",
              " 'bce': 18,\n",
              " 'became': 19,\n",
              " 'began': 20,\n",
              " 'belief': 21,\n",
              " 'bengal': 22,\n",
              " 'bh': 23,\n",
              " 'bhutan': 24,\n",
              " 'border': 25,\n",
              " 'bounded': 26,\n",
              " 'british': 27,\n",
              " 'buddhism': 28,\n",
              " 'caste': 29,\n",
              " 'central': 30,\n",
              " 'century': 31,\n",
              " 'change': 32,\n",
              " 'china': 33,\n",
              " 'christianity': 34,\n",
              " 'civilisation': 35,\n",
              " 'coast': 36,\n",
              " 'collective': 37,\n",
              " 'colonial': 38,\n",
              " 'company': 39,\n",
              " 'composite': 40,\n",
              " 'consolidating': 41,\n",
              " 'consolidation': 42,\n",
              " 'cosmopolitan': 43,\n",
              " 'country': 44,\n",
              " 'created': 45,\n",
              " 'creativity': 46,\n",
              " 'crown': 47,\n",
              " 'culture': 48,\n",
              " 'dawning': 49,\n",
              " 'declining': 50,\n",
              " 'delhi': 51,\n",
              " 'democracy': 52,\n",
              " 'diffused': 53,\n",
              " 'diverse': 54,\n",
              " 'diversity': 55,\n",
              " 'dominion': 56,\n",
              " 'dravidian': 57,\n",
              " 'drawing': 58,\n",
              " 'early': 59,\n",
              " 'east': 60,\n",
              " 'economy': 61,\n",
              " 'education': 62,\n",
              " 'emerged': 63,\n",
              " 'empire': 64,\n",
              " 'ending': 65,\n",
              " 'era': 66,\n",
              " 'established': 67,\n",
              " 'european': 68,\n",
              " 'eventually': 69,\n",
              " 'evolving': 70,\n",
              " 'exclusion': 71,\n",
              " 'expanding': 72,\n",
              " 'exported': 73,\n",
              " 'factor': 74,\n",
              " 'followed': 75,\n",
              " 'form': 76,\n",
              " 'founding': 77,\n",
              " 'ga': 78,\n",
              " 'ganges': 79,\n",
              " 'gatherer': 80,\n",
              " 'gave': 81,\n",
              " 'genetic': 82,\n",
              " 'gradually': 83,\n",
              " 'granted': 84,\n",
              " 'gupta': 85,\n",
              " 'heredity': 86,\n",
              " 'highly': 87,\n",
              " 'hindi': 88,\n",
              " 'hindu': 89,\n",
              " 'hinduism': 90,\n",
              " 'human': 91,\n",
              " 'hunter': 92,\n",
              " 'idea': 93,\n",
              " 'incorporation': 94,\n",
              " 'independent': 95,\n",
              " 'india': 96,\n",
              " 'indian': 97,\n",
              " 'indo': 98,\n",
              " 'indonesia': 99,\n",
              " 'indus': 100,\n",
              " 'influential': 101,\n",
              " 'initially': 102,\n",
              " 'institutionalised': 103,\n",
              " 'intermittently': 104,\n",
              " 'introduced': 105,\n",
              " 'islam': 106,\n",
              " 'island': 107,\n",
              " 'isolation': 108,\n",
              " 'jainism': 109,\n",
              " 'judaism': 110,\n",
              " 'jya': 111,\n",
              " 'kingdom': 112,\n",
              " 'knit': 113,\n",
              " 'land': 114,\n",
              " 'language': 115,\n",
              " 'lanka': 116,\n",
              " 'large': 117,\n",
              " 'largest': 118,\n",
              " 'lasting': 119,\n",
              " 'later': 120,\n",
              " 'leaving': 121,\n",
              " 'legacy': 122,\n",
              " 'life': 123,\n",
              " 'long': 124,\n",
              " 'loose': 125,\n",
              " 'loss': 126,\n",
              " 'luminous': 127,\n",
              " 'made': 128,\n",
              " 'major': 129,\n",
              " 'majority': 130,\n",
              " 'maldives': 131,\n",
              " 'margin': 132,\n",
              " 'maritime': 133,\n",
              " 'marked': 134,\n",
              " 'maurya': 135,\n",
              " 'medieval': 136,\n",
              " 'middle': 137,\n",
              " 'migration': 138,\n",
              " 'millennium': 139,\n",
              " 'modern': 140,\n",
              " 'modernity': 141,\n",
              " 'movement': 142,\n",
              " 'mughal': 143,\n",
              " 'muslim': 144,\n",
              " 'myanmar': 145,\n",
              " 'nationalist': 146,\n",
              " 'nepal': 147,\n",
              " 'network': 148,\n",
              " 'nicobar': 149,\n",
              " 'nonviolent': 150,\n",
              " 'north': 151,\n",
              " 'northern': 152,\n",
              " 'northwest': 153,\n",
              " 'noted': 154,\n",
              " 'occupation': 155,\n",
              " 'ocean': 156,\n",
              " 'officially': 157,\n",
              " 'order': 158,\n",
              " 'organised': 159,\n",
              " 'overran': 160,\n",
              " 'pakistan': 161,\n",
              " 'partitioned': 162,\n",
              " 'peace': 163,\n",
              " 'pioneering': 164,\n",
              " 'plain': 165,\n",
              " 'political': 166,\n",
              " 'populous': 167,\n",
              " 'proclaiming': 168,\n",
              " 'promised': 169,\n",
              " 'public': 170,\n",
              " 'punjab': 171,\n",
              " 'ranging': 172,\n",
              " 'rat': 173,\n",
              " 'recording': 174,\n",
              " 'region': 175,\n",
              " 'rejecting': 176,\n",
              " 'relative': 177,\n",
              " 'religion': 178,\n",
              " 'religious': 179,\n",
              " 'republic': 180,\n",
              " 'resistance': 181,\n",
              " 'right': 182,\n",
              " 'rigveda': 183,\n",
              " 'rise': 184,\n",
              " 'river': 185,\n",
              " 'root': 186,\n",
              " 'rule': 187,\n",
              " 'sanskrit': 188,\n",
              " 'scale': 189,\n",
              " 'script': 190,\n",
              " 'sea': 191,\n",
              " 'second': 192,\n",
              " 'settled': 193,\n",
              " 'seventh': 194,\n",
              " 'share': 195,\n",
              " 'sikhism': 196,\n",
              " 'slowly': 197,\n",
              " 'social': 198,\n",
              " 'south': 199,\n",
              " 'southeast': 200,\n",
              " 'southern': 201,\n",
              " 'southwest': 202,\n",
              " 'sovereignty': 203,\n",
              " 'sri': 204,\n",
              " 'status': 205,\n",
              " 'stratification': 206,\n",
              " 'subcontinent': 207,\n",
              " 'suffused': 208,\n",
              " 'sultanate': 209,\n",
              " 'supplanted': 210,\n",
              " 'system': 211,\n",
              " 'technological': 212,\n",
              " 'th': 213,\n",
              " 'thailand': 214,\n",
              " 'third': 215,\n",
              " 'took': 216,\n",
              " 'turning': 217,\n",
              " 'two': 218,\n",
              " 'unfolding': 219,\n",
              " 'unlinked': 220,\n",
              " 'unprecedented': 221,\n",
              " 'untouchability': 222,\n",
              " 'ushered': 223,\n",
              " 'valley': 224,\n",
              " 'varying': 225,\n",
              " 'vicinity': 226,\n",
              " 'vijayanagara': 227,\n",
              " 'west': 228,\n",
              " 'western': 229,\n",
              " 'wide': 230,\n",
              " 'within': 231,\n",
              " 'woman': 232,\n",
              " 'world': 233,\n",
              " 'year': 234,\n",
              " 'zoroastrianism': 235}"
            ]
          },
          "metadata": {},
          "execution_count": 32
        }
      ]
    },
    {
      "cell_type": "code",
      "source": [
        "corpus[0]"
      ],
      "metadata": {
        "colab": {
          "base_uri": "https://localhost:8080/",
          "height": 35
        },
        "id": "XpM4GryPqmVs",
        "outputId": "7634a842-1ae8-458b-f8a0-6d0ff52e33bd"
      },
      "execution_count": null,
      "outputs": [
        {
          "output_type": "execute_result",
          "data": {
            "text/plain": [
              "'india officially republic india hindi bh rat ga ar jya country south asia'"
            ],
            "application/vnd.google.colaboratory.intrinsic+json": {
              "type": "string"
            }
          },
          "metadata": {},
          "execution_count": 33
        }
      ]
    },
    {
      "cell_type": "code",
      "source": [
        "X[0].toarray()"
      ],
      "metadata": {
        "colab": {
          "base_uri": "https://localhost:8080/"
        },
        "id": "JzzSZ7iEq1aE",
        "outputId": "e35e68e6-997e-424f-b4df-ddebcefb33e2"
      },
      "execution_count": null,
      "outputs": [
        {
          "output_type": "execute_result",
          "data": {
            "text/plain": [
              "array([[0, 0, 0, 0, 0, 1, 0, 0, 0, 0, 0, 0, 0, 1, 0, 0, 0, 0, 0, 0, 0, 0,\n",
              "        0, 1, 0, 0, 0, 0, 0, 0, 0, 0, 0, 0, 0, 0, 0, 0, 0, 0, 0, 0, 0, 0,\n",
              "        1, 0, 0, 0, 0, 0, 0, 0, 0, 0, 0, 0, 0, 0, 0, 0, 0, 0, 0, 0, 0, 0,\n",
              "        0, 0, 0, 0, 0, 0, 0, 0, 0, 0, 0, 0, 1, 0, 0, 0, 0, 0, 0, 0, 0, 0,\n",
              "        1, 0, 0, 0, 0, 0, 0, 0, 1, 0, 0, 0, 0, 0, 0, 0, 0, 0, 0, 0, 0, 0,\n",
              "        0, 1, 0, 0, 0, 0, 0, 0, 0, 0, 0, 0, 0, 0, 0, 0, 0, 0, 0, 0, 0, 0,\n",
              "        0, 0, 0, 0, 0, 0, 0, 0, 0, 0, 0, 0, 0, 0, 0, 0, 0, 0, 0, 0, 0, 0,\n",
              "        0, 0, 0, 1, 0, 0, 0, 0, 0, 0, 0, 0, 0, 0, 0, 0, 0, 0, 0, 1, 0, 0,\n",
              "        0, 0, 0, 0, 1, 0, 0, 0, 0, 0, 0, 0, 0, 0, 0, 0, 0, 0, 0, 0, 0, 0,\n",
              "        0, 1, 0, 0, 0, 0, 0, 0, 0, 0, 0, 0, 0, 0, 0, 0, 0, 0, 0, 0, 0, 0,\n",
              "        0, 0, 0, 0, 0, 0, 0, 0, 0, 0, 0, 0, 0, 0, 0, 0]])"
            ]
          },
          "metadata": {},
          "execution_count": 34
        }
      ]
    }
  ]
}